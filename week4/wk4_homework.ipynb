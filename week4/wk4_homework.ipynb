{
 "cells": [
  {
   "cell_type": "markdown",
   "metadata": {},
   "source": [
    "# Week 4 Homework\n",
    "\n",
    "Go through the content in this notebook, and complete the problems."
   ]
  },
  {
   "cell_type": "markdown",
   "metadata": {},
   "source": [
    "# Errors\n",
    "\n",
    "By now, we have seen several pieces of code that have failed to run. In that case, Python does not only raise an error, but also specifies what exactly went wrong."
   ]
  },
  {
   "cell_type": "code",
   "execution_count": 1,
   "metadata": {},
   "outputs": [
    {
     "ename": "SyntaxError",
     "evalue": "incomplete input (495188828.py, line 3)",
     "output_type": "error",
     "traceback": [
      "\u001b[1;36m  Cell \u001b[1;32mIn[1], line 3\u001b[1;36m\u001b[0m\n\u001b[1;33m    print(a+3\u001b[0m\n\u001b[1;37m             ^\u001b[0m\n\u001b[1;31mSyntaxError\u001b[0m\u001b[1;31m:\u001b[0m incomplete input\n"
     ]
    }
   ],
   "source": [
    "# A syntax error indicates that your code is not properly formatted:\n",
    "a = 2\n",
    "print(a+3"
   ]
  },
  {
   "cell_type": "code",
   "execution_count": 2,
   "metadata": {},
   "outputs": [
    {
     "ename": "TypeError",
     "evalue": "can only concatenate str (not \"int\") to str",
     "output_type": "error",
     "traceback": [
      "\u001b[1;31m---------------------------------------------------------------------------\u001b[0m",
      "\u001b[1;31mTypeError\u001b[0m                                 Traceback (most recent call last)",
      "Cell \u001b[1;32mIn[2], line 3\u001b[0m\n\u001b[0;32m      1\u001b[0m \u001b[38;5;66;03m# A type error indicates that a function received an input of the wrong type\u001b[39;00m\n\u001b[0;32m      2\u001b[0m a \u001b[38;5;241m=\u001b[39m \u001b[38;5;124m'\u001b[39m\u001b[38;5;124m2\u001b[39m\u001b[38;5;124m'\u001b[39m\n\u001b[1;32m----> 3\u001b[0m \u001b[38;5;28mprint\u001b[39m(a\u001b[38;5;241m+\u001b[39m\u001b[38;5;241m3\u001b[39m)\n",
      "\u001b[1;31mTypeError\u001b[0m: can only concatenate str (not \"int\") to str"
     ]
    }
   ],
   "source": [
    "# A type error indicates that a function received an input of the wrong type\n",
    "a = '2'\n",
    "print(a+3)"
   ]
  },
  {
   "cell_type": "code",
   "execution_count": 3,
   "metadata": {},
   "outputs": [
    {
     "ename": "IndexError",
     "evalue": "list index out of range",
     "output_type": "error",
     "traceback": [
      "\u001b[1;31m---------------------------------------------------------------------------\u001b[0m",
      "\u001b[1;31mIndexError\u001b[0m                                Traceback (most recent call last)",
      "Cell \u001b[1;32mIn[3], line 3\u001b[0m\n\u001b[0;32m      1\u001b[0m \u001b[38;5;66;03m# An index error suggests that it is not possible to index an object in the attempted way.\u001b[39;00m\n\u001b[0;32m      2\u001b[0m a \u001b[38;5;241m=\u001b[39m [\u001b[38;5;241m2\u001b[39m, \u001b[38;5;241m3\u001b[39m]\n\u001b[1;32m----> 3\u001b[0m a[\u001b[38;5;241m3\u001b[39m]\n",
      "\u001b[1;31mIndexError\u001b[0m: list index out of range"
     ]
    }
   ],
   "source": [
    "# An index error suggests that it is not possible to index an object in the attempted way.\n",
    "a = [2, 3]\n",
    "a[3]"
   ]
  },
  {
   "cell_type": "markdown",
   "metadata": {},
   "source": [
    "You can return errors yourself using the command `raise`:"
   ]
  },
  {
   "cell_type": "code",
   "execution_count": 3,
   "metadata": {},
   "outputs": [
    {
     "ename": "ValueError",
     "evalue": "a should not be three",
     "output_type": "error",
     "traceback": [
      "\u001b[1;31m---------------------------------------------------------------------------\u001b[0m",
      "\u001b[1;31mValueError\u001b[0m                                Traceback (most recent call last)",
      "Cell \u001b[1;32mIn[3], line 3\u001b[0m\n\u001b[0;32m      1\u001b[0m a \u001b[38;5;241m=\u001b[39m \u001b[38;5;241m3\u001b[39m\n\u001b[0;32m      2\u001b[0m \u001b[38;5;28;01mif\u001b[39;00m a \u001b[38;5;241m==\u001b[39m \u001b[38;5;241m3\u001b[39m:\n\u001b[1;32m----> 3\u001b[0m   \u001b[38;5;28;01mraise\u001b[39;00m \u001b[38;5;167;01mValueError\u001b[39;00m(\u001b[38;5;124m'\u001b[39m\u001b[38;5;124ma should not be three\u001b[39m\u001b[38;5;124m'\u001b[39m)\n",
      "\u001b[1;31mValueError\u001b[0m: a should not be three"
     ]
    }
   ],
   "source": [
    "a = 3\n",
    "if a == 3:\n",
    "  raise ValueError('a should not be three')"
   ]
  },
  {
   "cell_type": "markdown",
   "metadata": {},
   "source": [
    "## More info on functions: Args and kwargs\n",
    "\n",
    "You can also use a piece of code that allows you to provide arbitrary arguments (with or without keywords) to your function. If you use `*args` as one of the arguments of your function, this will take any unnamed argument and put all of them in a tuple:"
   ]
  },
  {
   "cell_type": "code",
   "execution_count": 4,
   "metadata": {},
   "outputs": [
    {
     "name": "stdout",
     "output_type": "stream",
     "text": [
      "1\n",
      "(2, 3)\n"
     ]
    }
   ],
   "source": [
    "def f(a, *args):\n",
    "  print(a)\n",
    "  print(args)\n",
    "f(1, 2, 3)"
   ]
  },
  {
   "cell_type": "code",
   "execution_count": 5,
   "metadata": {},
   "outputs": [
    {
     "name": "stdout",
     "output_type": "stream",
     "text": [
      "1\n",
      "(2, 3, 4)\n"
     ]
    }
   ],
   "source": [
    "f(1, 2, 3, 4)"
   ]
  },
  {
   "cell_type": "code",
   "execution_count": 6,
   "metadata": {},
   "outputs": [
    {
     "name": "stdout",
     "output_type": "stream",
     "text": [
      "1\n",
      "(2, 3)\n",
      "1\n",
      "(2, 3, 4)\n"
     ]
    }
   ],
   "source": [
    "# The name args is not important\n",
    "def f(a, *variable):\n",
    "  print(a)\n",
    "  print(variable)\n",
    "f(1, 2, 3)\n",
    "f(1, 2, 3, 4)"
   ]
  },
  {
   "cell_type": "markdown",
   "metadata": {},
   "source": [
    "Similarly, if you put two asterisks in front of your variable (e.g. ``**kwargs``), it will assign all names variables to kwargs (in a dictionary format)."
   ]
  },
  {
   "cell_type": "code",
   "execution_count": 7,
   "metadata": {},
   "outputs": [
    {
     "name": "stdout",
     "output_type": "stream",
     "text": [
      "1\n",
      "{'b': 2, 'c': 3}\n"
     ]
    }
   ],
   "source": [
    "def f(a, **kwargs):\n",
    "  print(a)\n",
    "  print(kwargs)\n",
    "f(a=1, b=2, c=3)"
   ]
  },
  {
   "cell_type": "markdown",
   "metadata": {},
   "source": [
    "Again, we're mostly explaining this so you are familiar with it later on, when it will become extremely useful."
   ]
  },
  {
   "cell_type": "markdown",
   "metadata": {},
   "source": [
    "## Readability - Type Hinting \n",
    "Type hints indicate the types of variables, function parameters, and return values. They can help other developers understand what types of data your function expects and what it will return. Though it's not necessary to type hint, it helps improves the code readability and helps other people troubleshoot what's going on if they run into an issue."
   ]
  },
  {
   "cell_type": "code",
   "execution_count": 8,
   "metadata": {},
   "outputs": [],
   "source": [
    "def surface_area_of_cube(edge_length: float) -> str:\n",
    "    return f\"The surface area of the cube is {6 * edge_length ** 2}.\""
   ]
  },
  {
   "cell_type": "markdown",
   "metadata": {},
   "source": [
    "The function surface_area_of_cube takes an argument expected to be an instance of float, as indicated by the type hint edge_length: float. The function is expected to return an instance of str, as indicated by the -> str hint.\n",
    "\n",
    "# Readability - Docstrings\n",
    "\n",
    "Docstrings are great for understanding the functionality of the larger part of the code, i.e., the general purpose of any class or function. You can write whatever you want in it, though people generally prefer to follow certain style guide conventions, e.g. [PEP-257](https://peps.python.org/pep-0257/), or [numpydoc](https://numpydoc.readthedocs.io/en/latest/format.html)"
   ]
  },
  {
   "cell_type": "code",
   "execution_count": 9,
   "metadata": {},
   "outputs": [],
   "source": [
    "def surface_area_of_cube(edge_length: float) -> str:\n",
    "    \"\"\"\n",
    "    Hahaha I am writing whatever I want! this is going to output the surface of a cuuubbeeeeee :) \n",
    "    \"\"\"\n",
    "    return f\"The surface area of the cube is {6 * edge_length ** 2}.\""
   ]
  },
  {
   "cell_type": "code",
   "execution_count": 10,
   "metadata": {},
   "outputs": [
    {
     "name": "stdout",
     "output_type": "stream",
     "text": [
      "\u001b[1;31mSignature:\u001b[0m \u001b[0msurface_area_of_cube\u001b[0m\u001b[1;33m(\u001b[0m\u001b[0medge_length\u001b[0m\u001b[1;33m:\u001b[0m \u001b[0mfloat\u001b[0m\u001b[1;33m)\u001b[0m \u001b[1;33m->\u001b[0m \u001b[0mstr\u001b[0m\u001b[1;33m\u001b[0m\u001b[1;33m\u001b[0m\u001b[0m\n",
      "\u001b[1;31mDocstring:\u001b[0m Hahaha I am writing whatever I want! this is going to output the surface of a cuuubbeeeeee :) \n",
      "\u001b[1;31mFile:\u001b[0m      c:\\users\\lukas\\appdata\\local\\temp\\ipykernel_21492\\2187800515.py\n",
      "\u001b[1;31mType:\u001b[0m      function"
     ]
    }
   ],
   "source": [
    "surface_area_of_cube?"
   ]
  },
  {
   "cell_type": "code",
   "execution_count": 12,
   "metadata": {},
   "outputs": [],
   "source": [
    "# Sharon likes to use numpydoc convention.\n",
    "\n",
    "def surface_area_of_cube(edge_length: float) -> str:\n",
    "    \"\"\"\n",
    "    A unit agnostic function that calculates the surface area of a cube based on it's edge length. \n",
    "\n",
    "    Parameters\n",
    "    ----------\n",
    "    edge_length : float\n",
    "        The length of an edge for a given cube\n",
    "\n",
    "    Returns\n",
    "    -------\n",
    "    string\n",
    "        Human readable message detailing the surface area of the cube\n",
    "\n",
    "    \"\"\"\n",
    "    return f\"The surface area of the cube is {6 * edge_length ** 2}.\""
   ]
  },
  {
   "cell_type": "code",
   "execution_count": 13,
   "metadata": {},
   "outputs": [
    {
     "name": "stdout",
     "output_type": "stream",
     "text": [
      "\u001b[1;31mSignature:\u001b[0m \u001b[0msurface_area_of_cube\u001b[0m\u001b[1;33m(\u001b[0m\u001b[0medge_length\u001b[0m\u001b[1;33m:\u001b[0m \u001b[0mfloat\u001b[0m\u001b[1;33m)\u001b[0m \u001b[1;33m->\u001b[0m \u001b[0mstr\u001b[0m\u001b[1;33m\u001b[0m\u001b[1;33m\u001b[0m\u001b[0m\n",
      "\u001b[1;31mDocstring:\u001b[0m\n",
      "A unit agnostic function that calculates the surface area of a cube based on it's edge length. \n",
      "\n",
      "Parameters\n",
      "----------\n",
      "edge_length : float\n",
      "    The length of an edge for a given cube\n",
      "\n",
      "Returns\n",
      "-------\n",
      "string\n",
      "    Human readable message detailing the surface area of the cube\n",
      "\u001b[1;31mFile:\u001b[0m      c:\\users\\lukas\\appdata\\local\\temp\\ipykernel_21492\\89576434.py\n",
      "\u001b[1;31mType:\u001b[0m      function"
     ]
    }
   ],
   "source": [
    "surface_area_of_cube?"
   ]
  },
  {
   "cell_type": "markdown",
   "metadata": {},
   "source": [
    "## Problem 1 (list comprehension):\n",
    "1. Create a list using **list comprehension** where any values between 2 and 10 inclusive that are divisible by 3 are added to the list. Assign the list to a variable called `divisible_3s`.\n",
    "2. Using a for loop, print the index and the value at that index for every element in `divisible_3s`.\n",
    "3. Create a dictionary using list comprehension where the key is $x^3$ and the value is $x^2$ for x's between 1 and 4 inclusive. Assign the dictionary to variable `cube_square`.\n",
    "4. Print the key and value for every key, value pair in `cube_square`"
   ]
  },
  {
   "cell_type": "code",
   "execution_count": 14,
   "metadata": {},
   "outputs": [
    {
     "data": {
      "text/plain": [
       "[3, 6, 9]"
      ]
     },
     "execution_count": 14,
     "metadata": {},
     "output_type": "execute_result"
    }
   ],
   "source": [
    "#1.1\n",
    "divisible_3s = [x for x in range(2,10) if x%3==0]\n",
    "divisible_3s"
   ]
  },
  {
   "cell_type": "code",
   "execution_count": 15,
   "metadata": {},
   "outputs": [
    {
     "name": "stdout",
     "output_type": "stream",
     "text": [
      "0 3\n",
      "1 6\n",
      "2 9\n"
     ]
    }
   ],
   "source": [
    "#1.2\n",
    "for i in range(len(divisible_3s)):\n",
    "    print(i, divisible_3s[i])"
   ]
  },
  {
   "cell_type": "code",
   "execution_count": 16,
   "metadata": {},
   "outputs": [
    {
     "data": {
      "text/plain": [
       "{0: 0, 1: 1, 8: 4, 27: 9}"
      ]
     },
     "execution_count": 16,
     "metadata": {},
     "output_type": "execute_result"
    }
   ],
   "source": [
    "#1.3\n",
    "cube_square = dict([(x**3,x**2) for x in range(4)])\n",
    "cube_square"
   ]
  },
  {
   "cell_type": "code",
   "execution_count": 17,
   "metadata": {},
   "outputs": [
    {
     "name": "stdout",
     "output_type": "stream",
     "text": [
      "0: 0\n",
      "1: 1\n",
      "8: 4\n",
      "27: 9\n"
     ]
    }
   ],
   "source": [
    "#1.4\n",
    "for key in cube_square.keys():\n",
    "    print(f'{key}: {cube_square[key]}')"
   ]
  },
  {
   "cell_type": "markdown",
   "metadata": {},
   "source": [
    "## Problem 2 (error raises, default arguments)\n",
    "1. Write a function `integer_add` that takes two arguments and adds them together. If either of the arguments are not integers, raise an error. What is the correct error for this issue? \n",
    "2. Set default arguments of the two arguments to 1 for this function."
   ]
  },
  {
   "cell_type": "code",
   "execution_count": 27,
   "metadata": {},
   "outputs": [
    {
     "data": {
      "text/plain": [
       "11"
      ]
     },
     "execution_count": 27,
     "metadata": {},
     "output_type": "execute_result"
    }
   ],
   "source": [
    "#2.1\n",
    "def integer_add(int1=1, int2=1):\n",
    "    if type(int1) != int or type(int2) != int:\n",
    "        raise TypeError('please integer')\n",
    "    return int1 + int2\n",
    "integer_add(5, 6)"
   ]
  },
  {
   "cell_type": "code",
   "execution_count": 28,
   "metadata": {},
   "outputs": [
    {
     "data": {
      "text/plain": [
       "2"
      ]
     },
     "execution_count": 28,
     "metadata": {},
     "output_type": "execute_result"
    }
   ],
   "source": [
    "#2.2\n",
    "#added default arguments above\n",
    "integer_add()"
   ]
  },
  {
   "cell_type": "markdown",
   "metadata": {},
   "source": [
    "## Problem 3 (try/except, break/pass/continue):\n",
    "1. Use try/except to write a FUNCTION that takes integers a and b and prints a/b. If it gets an error (for example b is 0), it should instead print \"Cannot divide by zero\". Try your code with a few different choices of a and b to make sure it works correctly. \n",
    "- **Additionally, write a docstring for that funtion.**\n",
    "\n",
    "2. Modify your function so that it takes lists a and b, where numbers are paired by their index, and prints out a/b for each pair. If you run into an error, you must use pass, continue or break to print \"Cannot divide by zero\", and then continue printing the rest of the pairs. \n",
    "- **Use type hinting to indicate that a and b take in a list.**"
   ]
  },
  {
   "cell_type": "code",
   "execution_count": 29,
   "metadata": {},
   "outputs": [],
   "source": [
    "#3.1\n",
    "def p3(int_a, int_b):\n",
    "    \"\"\"\n",
    "    takes two integers a and b, and returns the value of a divided by b.\n",
    "    Parameters:\n",
    "    int_a, int_b: integers or floats\n",
    "    Returns:\n",
    "    a divided by b, integer or float\n",
    "    \"\"\"\n",
    "    try:\n",
    "        return int_a / int_b\n",
    "    except ZeroDivisionError: \n",
    "        print('cannot divide by zero')"
   ]
  },
  {
   "cell_type": "code",
   "execution_count": 32,
   "metadata": {},
   "outputs": [
    {
     "name": "stdout",
     "output_type": "stream",
     "text": [
      "cannot divide by zero\n",
      "1.0\n",
      "2.0\n"
     ]
    }
   ],
   "source": [
    "#3.2 \n",
    "def p3_2(list_a: list, list_b: list):\n",
    "    for i in range(min([len(list_a), len(list_b)])):\n",
    "        try: \n",
    "            print(list_a[i]/list_b[i])\n",
    "        except ZeroDivisionError:\n",
    "            print('cannot divide by zero')\n",
    "            continue\n",
    "\n",
    "p3_2([0, 2, 2], [0, 2, 1])"
   ]
  },
  {
   "cell_type": "markdown",
   "metadata": {},
   "source": [
    "# Problem 4\n",
    "\n",
    "Given an array of ints, return True if the array contains a 2 next to a 2 somewhere.\n",
    "\n",
    "\n",
    "has22([1, 2, 2]) → True\n",
    "has22([1, 2, 1, 2]) → False\n",
    "has22([2, 1, 2]) → False\n",
    "\n",
    "**Write a docstring and use type hinting for this function as well.**"
   ]
  },
  {
   "cell_type": "code",
   "execution_count": 35,
   "metadata": {},
   "outputs": [
    {
     "data": {
      "text/plain": [
       "True"
      ]
     },
     "execution_count": 35,
     "metadata": {},
     "output_type": "execute_result"
    }
   ],
   "source": [
    "#4\n",
    "test_w22 = [1, 2, 2, 4, 5, 6]\n",
    "test_no22 = [1, 2, 3, 4, 5, 6]\n",
    "import numpy\n",
    "def has22(myarray: numpy.array):\n",
    "    \"\"\"\n",
    "    takes in an array and returns whether or not there are two adjacent integers 2 in the array\n",
    "    Parameters:\n",
    "    myarray: numpy array\n",
    "    Returns:\n",
    "    Boolean corresponding to presence of adjacent 2s\n",
    "    \"\"\"\n",
    "    has22_bool = False\n",
    "    for i in range(len(myarray) - 1):\n",
    "        if (myarray[i], myarray[i+1]) == (2,2):\n",
    "            has22_bool = True\n",
    "    return has22_bool\n",
    "\n",
    "# has22(test_no22)\n",
    "has22(test_w22)"
   ]
  },
  {
   "cell_type": "markdown",
   "metadata": {},
   "source": [
    "## Problem 5\n",
    "\n",
    "You and your friends are really into the newest season of some reality TV show where everyone speed-dates each other, and you are trying to think of couple names (ship names) for several pairs. A common heuristic for coming up with couple names is combining the first syllable of one person's name with the LAST syllable of the other person's name. So, for example, the couple name for `Sharon` and `Janet` would be `Shanet`, combining the first syllable `Sha` from Sharon and the last syllable `net` from `Janet`.\n",
    " \n",
    "\n",
    "Rules for syllable parsing:\n",
    "If a vowel (letters aeiou and **sometimes** y) is followed by a consonant, that vowel marks the end of the syllable. (e.g. in `Sharon`, `a` is followed by `r`, and thus, the first syllable is `Sha`). EXCEPT, if `sh` follows a vowel, then `sh` marks the end of that syllable. e.g. the first syllable of `Ashley` is `Ash`, not `As`\n",
    " \n",
    "\n",
    "However, what if you have a couple with the names `Aaron` and `Sharon`? Combining the first syllable and last syllable from those two names would yield `Aaron`, and switching the order (where we take the first syllable from Sharon, and the last syllable from Aaron) would yield `Sharon`. These are BORING couple names, because the output is the same as one of the names of the people in the couple. In these cases, you would want to combine the first syllable from `Aaron` with the first syllable from `Sharon`, thus yielding `AaSha`, a much better couple name. [If it makes it easier, I will accept `Ronron` as an answer too.]\n",
    " \n",
    "\n",
    "Write a function called `name_generator` that sets variable `couple_name` to a suitable couple name for a couple with names assigned to variables `person1` and `person2`.\n",
    "\n",
    "\n",
    "I will try AT LEAST 7 test cases when grading, but I will give you 4 of them. Pass at least 3 to get full credit for the problem. Extra credit will be assigned based on the number of test cases passed. Note that this is CASE SENSITIVE.\n",
    "1. `Mobi` and `Betsy` \n",
    "2. `Ellie` and `Kollin`\n",
    "3. `Sam` and `Justin`\n",
    "4. `Shelly` and `Yonathan`"
   ]
  },
  {
   "cell_type": "code",
   "execution_count": 100,
   "metadata": {},
   "outputs": [
    {
     "data": {
      "text/plain": [
       "['yo', 'noooo', 'tha', 'nash']"
      ]
     },
     "execution_count": 100,
     "metadata": {},
     "output_type": "execute_result"
    }
   ],
   "source": [
    "def syllable_splitter(instring):\n",
    "    \"\"\"\n",
    "    splits a string into syllables based on the instructions above. \n",
    "    Parameters:\n",
    "    instring: a string to split\n",
    "    Returns:\n",
    "    list of strings representing the \n",
    "    \"\"\"\n",
    "    syllable_list = []\n",
    "    vowels = ['a', 'e', 'i', 'o', 'u', 'y']\n",
    "    # h_sounds = ['sh', 'th', 'ch']\n",
    "    h_sounds = ['sh']\n",
    "\n",
    "    for i in range(len(instring) - 2):\n",
    "        # print(instring[i])\n",
    "        # looping thru the vowels but not all the way til the end so we dont exit the index\n",
    "        if instring[i] in vowels:\n",
    "            # initiate syllable checker when we are at a vowel\n",
    "            if instring[i+1] not in vowels:\n",
    "                # checking if vowel followed by consonant\n",
    "                if instring[i+1:i+3] in h_sounds:\n",
    "                    #checking if we have a -sh type situation\n",
    "                    syllable_list.append(instring[:i+3])\n",
    "                # elif instring[-1] in vowels:\n",
    "                #     syllable_list.append(instring[:])\n",
    "                else:\n",
    "                    syllable_list.append(instring[:i+1])\n",
    "    # if len(syllable_list) == 1:\n",
    "    #     syllable_list.append(instring)\n",
    "    #     # for one-syllable names, directly take the full name\n",
    "    try:\n",
    "        if syllable_list[-1] != instring:\n",
    "        # adding the full string to include final syllable (unless last syllable ended with -sh type)\n",
    "            syllable_list.append(instring)\n",
    "    except IndexError:\n",
    "        syllable_list.append(instring)\n",
    "    syllable_list_cleaned = [syllable_list[0]]\n",
    "    for i in range(1, len(syllable_list)):\n",
    "        syllable_list_cleaned.append(syllable_list[i].replace(syllable_list[i-1],''))\n",
    "\n",
    "    return(syllable_list_cleaned)\n",
    "    # return(syllable_list)\n",
    "\n",
    "syllable_splitter('yonoooothanash')\n",
    "# syllable_splitter('sam')"
   ]
  },
  {
   "cell_type": "code",
   "execution_count": 54,
   "metadata": {},
   "outputs": [],
   "source": [
    "def name_generator(person1 : str, person2 : str) -> str:\n",
    "    \"\"\"\n",
    "    I did this in two functions because I thought it would be easier\n",
    "    takes two name strings and makes the shipping name out of it\n",
    "    Parameters:\n",
    "    person1, person2: two string names, any case\n",
    "    Returns:\n",
    "    ship name, capitalized, as string\n",
    "    \"\"\"\n",
    "    person1 = person1.lower()\n",
    "    person2 = person2.lower()\n",
    "    couple_name = syllable_splitter(person1)[0] + syllable_splitter(person2)[-1]\n",
    "    if couple_name == person1 or couple_name == person2:\n",
    "        couple_name = syllable_splitter(person1)[0] + syllable_splitter(person2)[0]\n",
    "    couple_name = couple_name[0].upper() + couple_name[1:]\n",
    "    return couple_name\n"
   ]
  },
  {
   "cell_type": "code",
   "execution_count": 102,
   "metadata": {},
   "outputs": [
    {
     "data": {
      "text/plain": [
       "'Shethan'"
      ]
     },
     "execution_count": 102,
     "metadata": {},
     "output_type": "execute_result"
    }
   ],
   "source": [
    "name_generator('Sharon', 'Janet')\n",
    "name_generator('Mobi', 'Betsy')\n",
    "name_generator('Ellie', 'Kollin')\n",
    "name_generator('Sam', 'Justin')\n",
    "name_generator('Shelly', 'Yonathan')\n",
    "# name_generator('Aaron', 'Sharonash')\n",
    "\n"
   ]
  },
  {
   "cell_type": "code",
   "execution_count": null,
   "metadata": {},
   "outputs": [],
   "source": []
  }
 ],
 "metadata": {
  "kernelspec": {
   "display_name": "Python 3",
   "language": "python",
   "name": "python3"
  },
  "language_info": {
   "codemirror_mode": {
    "name": "ipython",
    "version": 3
   },
   "file_extension": ".py",
   "mimetype": "text/x-python",
   "name": "python",
   "nbconvert_exporter": "python",
   "pygments_lexer": "ipython3",
   "version": "3.12.4"
  }
 },
 "nbformat": 4,
 "nbformat_minor": 2
}
